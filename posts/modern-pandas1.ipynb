{
 "cells": [
  {
   "cell_type": "markdown",
   "metadata": {},
   "source": [
    "Modern Pandas (1): Data Structures\n",
    "\n",
    "### Data Structures\n",
    "\n",
    "pandas has two main Data structures you need to worry about. `DataFrame` and `Series`.\n",
    "\n",
    "`DataFrame`s are for 2-dimensional, tabular data. These contain your data and define a ton of useful methods.\n",
    "\n",
    "`Series` are the 1-dimensional version of DataFrames. Why the distinction? Certain methods only make sense on a 1-dimensional structure.\n",
    "\n"
   ]
  },
  {
   "cell_type": "code",
   "execution_count": null,
   "metadata": {
    "collapsed": true
   },
   "outputs": [],
   "source": []
  }
 ],
 "metadata": {
  "kernelspec": {
   "display_name": "Python 3",
   "language": "python",
   "name": "python3"
  },
  "language_info": {
   "codemirror_mode": {
    "name": "ipython",
    "version": 3
   },
   "file_extension": ".py",
   "mimetype": "text/x-python",
   "name": "python",
   "nbconvert_exporter": "python",
   "pygments_lexer": "ipython3",
   "version": "3.4.3"
  }
 },
 "nbformat": 4,
 "nbformat_minor": 0
}
