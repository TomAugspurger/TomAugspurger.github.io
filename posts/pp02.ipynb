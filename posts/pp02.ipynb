{
 "cells": [
  {
   "cell_type": "markdown",
   "metadata": {},
   "source": [
    "*This is Part 2 in the Practical Pandas Series, where I work through a data analysis problem from start to finish.*\n",
    "\n",
    "It's a misconception that we can cleanly separate the data analysis pipeline into a linear\n",
    "sequence of steps from\n",
    "\n",
    "1. data acqusition\n",
    "2. data tidying\n",
    "3. exploratory analysis\n",
    "4. model building\n",
    "5. production\n",
    "\n",
    "As you work through a problem you'll realize, \"I need this other bit of data\", or \"this would be easier if I stored the data this way\", or more commonly \"strange, that's not supposed to happen\".\n",
    "\n",
    "We'll follow up our [last post](http://tomaugspurger.github.io/blog/2014/08/26/practical-pandas-part-1-reading-the-data/) by circling back to cleaning up our data set, and fetching some more data.\n",
    "Here's a reminder of where we were."
   ]
  },
  {
   "cell_type": "code",
   "execution_count": 1,
   "metadata": {
    "collapsed": false
   },
   "outputs": [
    {
     "data": {
      "text/html": [
       "<div style=\"max-height:1000px;max-width:1500px;overflow:auto;\">\n",
       "<table border=\"1\" class=\"dataframe\">\n",
       "  <thead>\n",
       "    <tr style=\"text-align: right;\">\n",
       "      <th></th>\n",
       "      <th>Time</th>\n",
       "      <th>Ride Time</th>\n",
       "      <th>Ride Time (secs)</th>\n",
       "      <th>Stopped Time</th>\n",
       "      <th>Stopped Time (secs)</th>\n",
       "      <th>Latitude</th>\n",
       "      <th>Longitude</th>\n",
       "      <th>Elevation (feet)</th>\n",
       "      <th>Distance (miles)</th>\n",
       "      <th>Speed (mph)</th>\n",
       "      <th>Pace</th>\n",
       "      <th>Pace (secs)</th>\n",
       "      <th>Average Speed (mph)</th>\n",
       "      <th>Average Pace</th>\n",
       "      <th>Average Pace (secs)</th>\n",
       "      <th>Ascent (feet)</th>\n",
       "      <th>Descent (feet)</th>\n",
       "      <th>Calories</th>\n",
       "      <th>ride_id</th>\n",
       "    </tr>\n",
       "  </thead>\n",
       "  <tbody>\n",
       "    <tr>\n",
       "      <th>0</th>\n",
       "      <td>2013-08-01 07:07:10</td>\n",
       "      <td>2014-09-02 00:00:01</td>\n",
       "      <td>  1.1</td>\n",
       "      <td>2014-09-02</td>\n",
       "      <td> 0</td>\n",
       "      <td> 41.703753</td>\n",
       "      <td>-91.609892</td>\n",
       "      <td> 963</td>\n",
       "      <td> 0.00</td>\n",
       "      <td> 2.88</td>\n",
       "      <td>2014-09-02 00:20:51</td>\n",
       "      <td> 1251</td>\n",
       "      <td> 0.00</td>\n",
       "      <td>2014-09-02 00:00:00</td>\n",
       "      <td>    0</td>\n",
       "      <td> 0</td>\n",
       "      <td>   0</td>\n",
       "      <td> 0</td>\n",
       "      <td> 0</td>\n",
       "    </tr>\n",
       "    <tr>\n",
       "      <th>1</th>\n",
       "      <td>2013-08-01 07:07:17</td>\n",
       "      <td>2014-09-02 00:00:08</td>\n",
       "      <td>  8.2</td>\n",
       "      <td>2014-09-02</td>\n",
       "      <td> 0</td>\n",
       "      <td> 41.703825</td>\n",
       "      <td>-91.609835</td>\n",
       "      <td> 852</td>\n",
       "      <td> 0.01</td>\n",
       "      <td> 2.88</td>\n",
       "      <td>2014-09-02 00:20:51</td>\n",
       "      <td> 1251</td>\n",
       "      <td> 2.56</td>\n",
       "      <td>2014-09-02 00:23:27</td>\n",
       "      <td> 1407</td>\n",
       "      <td> 0</td>\n",
       "      <td> 129</td>\n",
       "      <td> 0</td>\n",
       "      <td> 0</td>\n",
       "    </tr>\n",
       "    <tr>\n",
       "      <th>2</th>\n",
       "      <td>2013-08-01 07:07:22</td>\n",
       "      <td>2014-09-02 00:00:13</td>\n",
       "      <td> 13.2</td>\n",
       "      <td>2014-09-02</td>\n",
       "      <td> 0</td>\n",
       "      <td> 41.703858</td>\n",
       "      <td>-91.609814</td>\n",
       "      <td> 789</td>\n",
       "      <td> 0.01</td>\n",
       "      <td> 2.88</td>\n",
       "      <td>2014-09-02 00:20:51</td>\n",
       "      <td> 1251</td>\n",
       "      <td> 2.27</td>\n",
       "      <td>2014-09-02 00:26:27</td>\n",
       "      <td> 1587</td>\n",
       "      <td> 0</td>\n",
       "      <td> 173</td>\n",
       "      <td> 0</td>\n",
       "      <td> 0</td>\n",
       "    </tr>\n",
       "    <tr>\n",
       "      <th>3</th>\n",
       "      <td>2013-08-01 07:07:27</td>\n",
       "      <td>2014-09-02 00:00:18</td>\n",
       "      <td> 18.2</td>\n",
       "      <td>2014-09-02</td>\n",
       "      <td> 0</td>\n",
       "      <td> 41.703943</td>\n",
       "      <td>-91.610090</td>\n",
       "      <td> 787</td>\n",
       "      <td> 0.02</td>\n",
       "      <td> 6.60</td>\n",
       "      <td>2014-09-02 00:09:06</td>\n",
       "      <td>  546</td>\n",
       "      <td> 4.70</td>\n",
       "      <td>2014-09-02 00:12:47</td>\n",
       "      <td>  767</td>\n",
       "      <td> 0</td>\n",
       "      <td> 173</td>\n",
       "      <td> 1</td>\n",
       "      <td> 0</td>\n",
       "    </tr>\n",
       "    <tr>\n",
       "      <th>4</th>\n",
       "      <td>2013-08-01 07:07:40</td>\n",
       "      <td>2014-09-02 00:00:31</td>\n",
       "      <td> 31.2</td>\n",
       "      <td>2014-09-02</td>\n",
       "      <td> 0</td>\n",
       "      <td> 41.704381</td>\n",
       "      <td>-91.610258</td>\n",
       "      <td> 788</td>\n",
       "      <td> 0.06</td>\n",
       "      <td> 9.50</td>\n",
       "      <td>2014-09-02 00:06:19</td>\n",
       "      <td>  379</td>\n",
       "      <td> 6.37</td>\n",
       "      <td>2014-09-02 00:09:26</td>\n",
       "      <td>  566</td>\n",
       "      <td> 0</td>\n",
       "      <td> 173</td>\n",
       "      <td> 2</td>\n",
       "      <td> 0</td>\n",
       "    </tr>\n",
       "  </tbody>\n",
       "</table>\n",
       "</div>"
      ],
      "text/plain": [
       "                 Time           Ride Time  Ride Time (secs) Stopped Time  \\\n",
       "0 2013-08-01 07:07:10 2014-09-02 00:00:01               1.1   2014-09-02   \n",
       "1 2013-08-01 07:07:17 2014-09-02 00:00:08               8.2   2014-09-02   \n",
       "2 2013-08-01 07:07:22 2014-09-02 00:00:13              13.2   2014-09-02   \n",
       "3 2013-08-01 07:07:27 2014-09-02 00:00:18              18.2   2014-09-02   \n",
       "4 2013-08-01 07:07:40 2014-09-02 00:00:31              31.2   2014-09-02   \n",
       "\n",
       "   Stopped Time (secs)   Latitude  Longitude  Elevation (feet)  \\\n",
       "0                    0  41.703753 -91.609892               963   \n",
       "1                    0  41.703825 -91.609835               852   \n",
       "2                    0  41.703858 -91.609814               789   \n",
       "3                    0  41.703943 -91.610090               787   \n",
       "4                    0  41.704381 -91.610258               788   \n",
       "\n",
       "   Distance (miles)  Speed (mph)                Pace  Pace (secs)  \\\n",
       "0              0.00         2.88 2014-09-02 00:20:51         1251   \n",
       "1              0.01         2.88 2014-09-02 00:20:51         1251   \n",
       "2              0.01         2.88 2014-09-02 00:20:51         1251   \n",
       "3              0.02         6.60 2014-09-02 00:09:06          546   \n",
       "4              0.06         9.50 2014-09-02 00:06:19          379   \n",
       "\n",
       "   Average Speed (mph)        Average Pace  Average Pace (secs)  \\\n",
       "0                 0.00 2014-09-02 00:00:00                    0   \n",
       "1                 2.56 2014-09-02 00:23:27                 1407   \n",
       "2                 2.27 2014-09-02 00:26:27                 1587   \n",
       "3                 4.70 2014-09-02 00:12:47                  767   \n",
       "4                 6.37 2014-09-02 00:09:26                  566   \n",
       "\n",
       "   Ascent (feet)  Descent (feet)  Calories  ride_id  \n",
       "0              0               0         0        0  \n",
       "1              0             129         0        0  \n",
       "2              0             173         0        0  \n",
       "3              0             173         1        0  \n",
       "4              0             173         2        0  "
      ]
     },
     "execution_count": 1,
     "metadata": {},
     "output_type": "execute_result"
    }
   ],
   "source": [
    "%matplotlib inline\n",
    "\n",
    "import numpy as np\n",
    "import pandas as pd\n",
    "import seaborn as sns\n",
    "import matplotlib.pyplot as plt\n",
    "\n",
    "df = pd.read_hdf('data/cycle_store.h5', key='merged')\n",
    "df.head()"
   ]
  },
  {
   "cell_type": "markdown",
   "metadata": {},
   "source": [
    "Because of a [bug](https://github.com/pydata/pandas/issues/8189) in pandas, we lost our timzone information when we filled in our missing values. Until that's fixed we'll have to manually add back the timezone info and convert."
   ]
  },
  {
   "cell_type": "markdown",
   "metadata": {},
   "source": [
    "I like to keep my DataFrame columns as valid python identifiers.\n",
    "Let's define a helper function to rename the columns. We also have a few redundant columns that we can drop."
   ]
  },
  {
   "cell_type": "code",
   "execution_count": 2,
   "metadata": {
    "collapsed": false
   },
   "outputs": [
    {
     "data": {
      "text/plain": [
       "['time',\n",
       " 'ride_time_secs',\n",
       " 'stopped_time_secs',\n",
       " 'latitude',\n",
       " 'longitude',\n",
       " 'elevation_feet',\n",
       " 'distance_miles',\n",
       " 'speed_mph',\n",
       " 'pace_secs',\n",
       " 'average_speed_mph',\n",
       " 'average_pace_secs',\n",
       " 'ascent_feet',\n",
       " 'descent_feet',\n",
       " 'calories',\n",
       " 'ride_id']"
      ]
     },
     "execution_count": 2,
     "metadata": {},
     "output_type": "execute_result"
    }
   ],
   "source": [
    "df = df.drop(['Ride Time', 'Stopped Time', 'Pace', 'Average Pace'], axis=1)\n",
    "\n",
    "def renamer(name):\n",
    "    for char in ['(', ')']:\n",
    "        name = name.replace(char, '')\n",
    "    name = name.replace(' ', '_')\n",
    "    name = name.lower()\n",
    "    return name\n",
    "\n",
    "df = df.rename(columns=renamer)\n",
    "list(df.columns)"
   ]
  },
  {
   "cell_type": "markdown",
   "metadata": {},
   "source": [
    "### Do you trust the data?"
   ]
  },
  {
   "cell_type": "markdown",
   "metadata": {},
   "source": [
    "Remember that I needed to manually start and stop the timer each ride, which natuarlly means that I messed this up at least once. Let's see if we can figure out the rides where I messed things up.\n",
    "The first heuristic we'll use is checking to see if I moved at all.\n",
    "\n",
    "All of my rides should have take roughly the same about of time. Let's get an idea of how the distribution of ride times look. We'll look at both the ride time and the time I spent stopped.\n",
    "If I spend a long time in the same place, there's a good chance that I finished my ride and forgot to stop the timer."
   ]
  },
  {
   "cell_type": "code",
   "execution_count": 3,
   "metadata": {
    "collapsed": false
   },
   "outputs": [
    {
     "data": {
      "text/plain": [
       "<matplotlib.text.Text at 0x11531f3c8>"
      ]
     },
     "execution_count": 3,
     "metadata": {},
     "output_type": "execute_result"
    },
    {
     "data": {
      "image/png": "[encoded data removed]",
      "text/plain": [
       "<matplotlib.figure.Figure at 0x115004828>"
      ]
     },
     "metadata": {},
     "output_type": "display_data"
    }
   ],
   "source": [
    "time_pal = sns.color_palette(n_colors=2)\n",
    "\n",
    "# Plot it in mintues\n",
    "fig, axes = plt.subplots(ncols=2, figsize=(13, 5))\n",
    "\n",
    "# max to get the last observation per ride since we know these are increasing\n",
    "times = df.groupby('ride_id')[['stopped_time_secs', 'ride_time_secs']].max()\n",
    "times['ride_time_secs'].plot(kind='bar', ax=axes[0], color=time_pal[0])\n",
    "axes[0].set_title(\"Ride Time\")\n",
    "\n",
    "times['stopped_time_secs'].plot(kind='bar', ax=axes[1], color=time_pal[1])\n",
    "axes[1].set_title(\"Stopped Time\")"
   ]
  },
  {
   "cell_type": "markdown",
   "metadata": {},
   "source": [
    "Let's dig into that spike in the stopped time. We'll get it's ride id with the `Series.argmax` method."
   ]
  },
  {
   "cell_type": "code",
   "execution_count": 4,
   "metadata": {
    "collapsed": false
   },
   "outputs": [
    {
     "data": {
      "text/plain": [
       "<matplotlib.collections.LineCollection at 0x115004160>"
      ]
     },
     "execution_count": 4,
     "metadata": {},
     "output_type": "execute_result"
    },
    {
     "data": {
      "image/png": "[encoded data removed]",
      "text/plain": [
       "<matplotlib.figure.Figure at 0x1150040f0>"
      ]
     },
     "metadata": {},
     "output_type": "display_data"
    }
   ],
   "source": [
    "idx = times.stopped_time_secs.argmax()\n",
    "long_stop = df[df.ride_id == idx]\n",
    "\n",
    "ax = long_stop.set_index('time')['distance_miles'].plot()\n",
    "avg_distance = df.groupby('ride_id').distance_miles.max().mean()\n",
    "ax.set_ylabel(\"Distance (miles)\")\n",
    "ax.hlines(avg_distance, *ax.get_xlim())"
   ]
  },
  {
   "cell_type": "markdown",
   "metadata": {},
   "source": [
    "So it looks like I started my timer, sat around for about 15 minutes, and then continued with my normal ride (I verified that by plotting the average distance travelled per ride, and it was right on target).\n",
    "\n",
    "We can use most of the columns fine, it's just the the `time` column we need to be careful with. Let's\n",
    "make an adjusted time column `time_adj` that accounts for the stopped time."
   ]
  },
  {
   "cell_type": "code",
   "execution_count": 5,
   "metadata": {
    "collapsed": false
   },
   "outputs": [
    {
     "data": {
      "text/html": [
       "<div style=\"max-height:1000px;max-width:1500px;overflow:auto;\">\n",
       "<table border=\"1\" class=\"dataframe\">\n",
       "  <thead>\n",
       "    <tr style=\"text-align: right;\">\n",
       "      <th></th>\n",
       "      <th>time</th>\n",
       "      <th>ride_time_secs</th>\n",
       "      <th>stopped_time_secs</th>\n",
       "      <th>latitude</th>\n",
       "      <th>longitude</th>\n",
       "      <th>elevation_feet</th>\n",
       "      <th>distance_miles</th>\n",
       "      <th>speed_mph</th>\n",
       "      <th>pace_secs</th>\n",
       "      <th>average_speed_mph</th>\n",
       "      <th>average_pace_secs</th>\n",
       "      <th>ascent_feet</th>\n",
       "      <th>descent_feet</th>\n",
       "      <th>calories</th>\n",
       "      <th>ride_id</th>\n",
       "      <th>time_adj</th>\n",
       "    </tr>\n",
       "  </thead>\n",
       "  <tbody>\n",
       "    <tr>\n",
       "      <th>0</th>\n",
       "      <td>2013-08-01 07:07:10</td>\n",
       "      <td>  1.1</td>\n",
       "      <td> 0</td>\n",
       "      <td> 41.703753</td>\n",
       "      <td>-91.609892</td>\n",
       "      <td> 963</td>\n",
       "      <td> 0.00</td>\n",
       "      <td> 2.88</td>\n",
       "      <td> 1251</td>\n",
       "      <td> 0.00</td>\n",
       "      <td>    0</td>\n",
       "      <td> 0</td>\n",
       "      <td>   0</td>\n",
       "      <td> 0</td>\n",
       "      <td> 0</td>\n",
       "      <td>2013-08-01 07:07:10</td>\n",
       "    </tr>\n",
       "    <tr>\n",
       "      <th>1</th>\n",
       "      <td>2013-08-01 07:07:17</td>\n",
       "      <td>  8.2</td>\n",
       "      <td> 0</td>\n",
       "      <td> 41.703825</td>\n",
       "      <td>-91.609835</td>\n",
       "      <td> 852</td>\n",
       "      <td> 0.01</td>\n",
       "      <td> 2.88</td>\n",
       "      <td> 1251</td>\n",
       "      <td> 2.56</td>\n",
       "      <td> 1407</td>\n",
       "      <td> 0</td>\n",
       "      <td> 129</td>\n",
       "      <td> 0</td>\n",
       "      <td> 0</td>\n",
       "      <td>2013-08-01 07:07:17</td>\n",
       "    </tr>\n",
       "    <tr>\n",
       "      <th>2</th>\n",
       "      <td>2013-08-01 07:07:22</td>\n",
       "      <td> 13.2</td>\n",
       "      <td> 0</td>\n",
       "      <td> 41.703858</td>\n",
       "      <td>-91.609814</td>\n",
       "      <td> 789</td>\n",
       "      <td> 0.01</td>\n",
       "      <td> 2.88</td>\n",
       "      <td> 1251</td>\n",
       "      <td> 2.27</td>\n",
       "      <td> 1587</td>\n",
       "      <td> 0</td>\n",
       "      <td> 173</td>\n",
       "      <td> 0</td>\n",
       "      <td> 0</td>\n",
       "      <td>2013-08-01 07:07:22</td>\n",
       "    </tr>\n",
       "    <tr>\n",
       "      <th>3</th>\n",
       "      <td>2013-08-01 07:07:27</td>\n",
       "      <td> 18.2</td>\n",
       "      <td> 0</td>\n",
       "      <td> 41.703943</td>\n",
       "      <td>-91.610090</td>\n",
       "      <td> 787</td>\n",
       "      <td> 0.02</td>\n",
       "      <td> 6.60</td>\n",
       "      <td>  546</td>\n",
       "      <td> 4.70</td>\n",
       "      <td>  767</td>\n",
       "      <td> 0</td>\n",
       "      <td> 173</td>\n",
       "      <td> 1</td>\n",
       "      <td> 0</td>\n",
       "      <td>2013-08-01 07:07:27</td>\n",
       "    </tr>\n",
       "    <tr>\n",
       "      <th>4</th>\n",
       "      <td>2013-08-01 07:07:40</td>\n",
       "      <td> 31.2</td>\n",
       "      <td> 0</td>\n",
       "      <td> 41.704381</td>\n",
       "      <td>-91.610258</td>\n",
       "      <td> 788</td>\n",
       "      <td> 0.06</td>\n",
       "      <td> 9.50</td>\n",
       "      <td>  379</td>\n",
       "      <td> 6.37</td>\n",
       "      <td>  566</td>\n",
       "      <td> 0</td>\n",
       "      <td> 173</td>\n",
       "      <td> 2</td>\n",
       "      <td> 0</td>\n",
       "      <td>2013-08-01 07:07:40</td>\n",
       "    </tr>\n",
       "  </tbody>\n",
       "</table>\n",
       "</div>"
      ],
      "text/plain": [
       "                 time  ride_time_secs  stopped_time_secs   latitude  \\\n",
       "0 2013-08-01 07:07:10             1.1                  0  41.703753   \n",
       "1 2013-08-01 07:07:17             8.2                  0  41.703825   \n",
       "2 2013-08-01 07:07:22            13.2                  0  41.703858   \n",
       "3 2013-08-01 07:07:27            18.2                  0  41.703943   \n",
       "4 2013-08-01 07:07:40            31.2                  0  41.704381   \n",
       "\n",
       "   longitude  elevation_feet  distance_miles  speed_mph  pace_secs  \\\n",
       "0 -91.609892             963            0.00       2.88       1251   \n",
       "1 -91.609835             852            0.01       2.88       1251   \n",
       "2 -91.609814             789            0.01       2.88       1251   \n",
       "3 -91.610090             787            0.02       6.60        546   \n",
       "4 -91.610258             788            0.06       9.50        379   \n",
       "\n",
       "   average_speed_mph  average_pace_secs  ascent_feet  descent_feet  calories  \\\n",
       "0               0.00                  0            0             0         0   \n",
       "1               2.56               1407            0           129         0   \n",
       "2               2.27               1587            0           173         0   \n",
       "3               4.70                767            0           173         1   \n",
       "4               6.37                566            0           173         2   \n",
       "\n",
       "   ride_id            time_adj  \n",
       "0        0 2013-08-01 07:07:10  \n",
       "1        0 2013-08-01 07:07:17  \n",
       "2        0 2013-08-01 07:07:22  \n",
       "3        0 2013-08-01 07:07:27  \n",
       "4        0 2013-08-01 07:07:40  "
      ]
     },
     "execution_count": 5,
     "metadata": {},
     "output_type": "execute_result"
    }
   ],
   "source": [
    "import datetime\n",
    "\n",
    "def as_timedelta(x):\n",
    "    return datetime.timedelta(0, x // 1, x % 1)\n",
    "\n",
    "df['time_adj'] = df.time - df.stopped_time_secs.apply(as_timedelta)\n",
    "df.head()"
   ]
  },
  {
   "cell_type": "markdown",
   "metadata": {},
   "source": [
    "When we start using the actual GPS data, we may need to do some smoothing.\n",
    "These are just readings from my iPhone, which probably aren't that accurate. [Kalman filters](http://en.wikipedia.org/wiki/Kalman_filter), which I learned about in my econometrics class, are commonly used for this purpose.\n",
    "But I think that's good enough for now. "
   ]
  },
  {
   "cell_type": "markdown",
   "metadata": {},
   "source": [
    "### Getting More Data"
   ]
  },
  {
   "cell_type": "markdown",
   "metadata": {},
   "source": [
    "I'm interested in explaining the variation in how long it took me to make the ride.\n",
    "I hypothesize that the weather may have had something to do with it. We'll fetch data from [forecas.io](http://forecast.io) using their [API](https://developer.forecast.io) to get the weather conditions at the time of each ride.\n",
    "\n",
    "\n",
    "I looked at the [forecast.io documentation](https://developer.forecast.io/docs/v2), and noticed that the API will require a timezone. We could proceed in two ways\n",
    "\n",
    "1. Set `df.time` to be the index (a DatetimeIndex). Then localize with `df.tz_localize`\n",
    "2. Pass `df.time` through the DatetimeIndex constructor to set the timezone, and set that to be a column in df.\n",
    "\n",
    "Ideally we'd go with 1. Pandas has a lot of great additoinal functionality to offer when you have a DatetimeIndex (such as `resample`).\n",
    "However, this conflicts with the desire to have a unique index with this specific dataset. The times recorded are at the second frequency, but there are occasionally multiple readings in a second."
   ]
  },
  {
   "cell_type": "code",
   "execution_count": 6,
   "metadata": {
    "collapsed": false
   },
   "outputs": [
    {
     "data": {
      "text/plain": [
       "114"
      ]
     },
     "execution_count": 6,
     "metadata": {},
     "output_type": "execute_result"
    }
   ],
   "source": [
    "# should be 0 if there are no repeats.\n",
    "len(df.time) - len(df.time.unique())"
   ]
  },
  {
   "cell_type": "markdown",
   "metadata": {},
   "source": [
    "So we'll go with #2, running the `time` column through the `DatetimeIndex` constructor, which has a `tz` (timezone) parameter, and placing that in a 'time' column. I'm in the `US/Central` timezone."
   ]
  },
  {
   "cell_type": "code",
   "execution_count": 7,
   "metadata": {
    "collapsed": false
   },
   "outputs": [
    {
     "data": {
      "text/html": [
       "<div style=\"max-height:1000px;max-width:1500px;overflow:auto;\">\n",
       "<table border=\"1\" class=\"dataframe\">\n",
       "  <thead>\n",
       "    <tr style=\"text-align: right;\">\n",
       "      <th></th>\n",
       "      <th>time</th>\n",
       "      <th>ride_time_secs</th>\n",
       "      <th>stopped_time_secs</th>\n",
       "      <th>latitude</th>\n",
       "      <th>longitude</th>\n",
       "      <th>elevation_feet</th>\n",
       "      <th>distance_miles</th>\n",
       "      <th>speed_mph</th>\n",
       "      <th>pace_secs</th>\n",
       "      <th>average_speed_mph</th>\n",
       "      <th>average_pace_secs</th>\n",
       "      <th>ascent_feet</th>\n",
       "      <th>descent_feet</th>\n",
       "      <th>calories</th>\n",
       "      <th>ride_id</th>\n",
       "      <th>time_adj</th>\n",
       "    </tr>\n",
       "  </thead>\n",
       "  <tbody>\n",
       "    <tr>\n",
       "      <th>0</th>\n",
       "      <td> 2013-08-01 07:07:10-05:00</td>\n",
       "      <td>  1.1</td>\n",
       "      <td> 0</td>\n",
       "      <td> 41.703753</td>\n",
       "      <td>-91.609892</td>\n",
       "      <td> 963</td>\n",
       "      <td> 0.00</td>\n",
       "      <td> 2.88</td>\n",
       "      <td> 1251</td>\n",
       "      <td> 0.00</td>\n",
       "      <td>    0</td>\n",
       "      <td> 0</td>\n",
       "      <td>   0</td>\n",
       "      <td> 0</td>\n",
       "      <td> 0</td>\n",
       "      <td>2013-08-01 07:07:10</td>\n",
       "    </tr>\n",
       "    <tr>\n",
       "      <th>1</th>\n",
       "      <td> 2013-08-01 07:07:17-05:00</td>\n",
       "      <td>  8.2</td>\n",
       "      <td> 0</td>\n",
       "      <td> 41.703825</td>\n",
       "      <td>-91.609835</td>\n",
       "      <td> 852</td>\n",
       "      <td> 0.01</td>\n",
       "      <td> 2.88</td>\n",
       "      <td> 1251</td>\n",
       "      <td> 2.56</td>\n",
       "      <td> 1407</td>\n",
       "      <td> 0</td>\n",
       "      <td> 129</td>\n",
       "      <td> 0</td>\n",
       "      <td> 0</td>\n",
       "      <td>2013-08-01 07:07:17</td>\n",
       "    </tr>\n",
       "    <tr>\n",
       "      <th>2</th>\n",
       "      <td> 2013-08-01 07:07:22-05:00</td>\n",
       "      <td> 13.2</td>\n",
       "      <td> 0</td>\n",
       "      <td> 41.703858</td>\n",
       "      <td>-91.609814</td>\n",
       "      <td> 789</td>\n",
       "      <td> 0.01</td>\n",
       "      <td> 2.88</td>\n",
       "      <td> 1251</td>\n",
       "      <td> 2.27</td>\n",
       "      <td> 1587</td>\n",
       "      <td> 0</td>\n",
       "      <td> 173</td>\n",
       "      <td> 0</td>\n",
       "      <td> 0</td>\n",
       "      <td>2013-08-01 07:07:22</td>\n",
       "    </tr>\n",
       "    <tr>\n",
       "      <th>3</th>\n",
       "      <td> 2013-08-01 07:07:27-05:00</td>\n",
       "      <td> 18.2</td>\n",
       "      <td> 0</td>\n",
       "      <td> 41.703943</td>\n",
       "      <td>-91.610090</td>\n",
       "      <td> 787</td>\n",
       "      <td> 0.02</td>\n",
       "      <td> 6.60</td>\n",
       "      <td>  546</td>\n",
       "      <td> 4.70</td>\n",
       "      <td>  767</td>\n",
       "      <td> 0</td>\n",
       "      <td> 173</td>\n",
       "      <td> 1</td>\n",
       "      <td> 0</td>\n",
       "      <td>2013-08-01 07:07:27</td>\n",
       "    </tr>\n",
       "    <tr>\n",
       "      <th>4</th>\n",
       "      <td> 2013-08-01 07:07:40-05:00</td>\n",
       "      <td> 31.2</td>\n",
       "      <td> 0</td>\n",
       "      <td> 41.704381</td>\n",
       "      <td>-91.610258</td>\n",
       "      <td> 788</td>\n",
       "      <td> 0.06</td>\n",
       "      <td> 9.50</td>\n",
       "      <td>  379</td>\n",
       "      <td> 6.37</td>\n",
       "      <td>  566</td>\n",
       "      <td> 0</td>\n",
       "      <td> 173</td>\n",
       "      <td> 2</td>\n",
       "      <td> 0</td>\n",
       "      <td>2013-08-01 07:07:40</td>\n",
       "    </tr>\n",
       "  </tbody>\n",
       "</table>\n",
       "</div>"
      ],
      "text/plain": [
       "                        time  ride_time_secs  stopped_time_secs   latitude  \\\n",
       "0  2013-08-01 07:07:10-05:00             1.1                  0  41.703753   \n",
       "1  2013-08-01 07:07:17-05:00             8.2                  0  41.703825   \n",
       "2  2013-08-01 07:07:22-05:00            13.2                  0  41.703858   \n",
       "3  2013-08-01 07:07:27-05:00            18.2                  0  41.703943   \n",
       "4  2013-08-01 07:07:40-05:00            31.2                  0  41.704381   \n",
       "\n",
       "   longitude  elevation_feet  distance_miles  speed_mph  pace_secs  \\\n",
       "0 -91.609892             963            0.00       2.88       1251   \n",
       "1 -91.609835             852            0.01       2.88       1251   \n",
       "2 -91.609814             789            0.01       2.88       1251   \n",
       "3 -91.610090             787            0.02       6.60        546   \n",
       "4 -91.610258             788            0.06       9.50        379   \n",
       "\n",
       "   average_speed_mph  average_pace_secs  ascent_feet  descent_feet  calories  \\\n",
       "0               0.00                  0            0             0         0   \n",
       "1               2.56               1407            0           129         0   \n",
       "2               2.27               1587            0           173         0   \n",
       "3               4.70                767            0           173         1   \n",
       "4               6.37                566            0           173         2   \n",
       "\n",
       "   ride_id            time_adj  \n",
       "0        0 2013-08-01 07:07:10  \n",
       "1        0 2013-08-01 07:07:17  \n",
       "2        0 2013-08-01 07:07:22  \n",
       "3        0 2013-08-01 07:07:27  \n",
       "4        0 2013-08-01 07:07:40  "
      ]
     },
     "execution_count": 7,
     "metadata": {},
     "output_type": "execute_result"
    }
   ],
   "source": [
    "df['time'] = pd.DatetimeIndex(df.time, tz='US/Central')\n",
    "df.head()"
   ]
  },
  {
   "cell_type": "markdown",
   "metadata": {},
   "source": [
    "There's nothing specific to pandas here, but knowing the basics of calling an API and parsing the response is still useful.\n",
    "We'll use [requests](http://docs.python-requests.org/en/latest/) to make the\n",
    "API call. You'll need to register for you own API key. I keep mine in a JSON file in my Dropbox bin folder.\n",
    "\n",
    "For this specific call we need to give the Latitude, Longitude, and Time that we want the weather for.\n",
    "We fill in those to a url with the format `https://api.forecast.io/forecast/{key}/{Latitude},{Longitude},{Time}`."
   ]
  },
  {
   "cell_type": "code",
   "execution_count": 8,
   "metadata": {
    "collapsed": false
   },
   "outputs": [],
   "source": [
    "import json\n",
    "import requests\n",
    "\n",
    "with open('/Users/tom/Dropbox/bin/api-keys.txt') as f:\n",
    "    key = json.load(f)['forecast.io']\n",
    "\n",
    "url = \"https://api.forecast.io/forecast/{key}/{Latitude},{Longitude},{Time}\"\n",
    "\n",
    "vals = df.loc[0, ['latitude', 'longitude', 'time']].rename(lambda x: x.title()).to_dict()\n",
    "vals['Time'] = str(vals['Time']).replace(' ', 'T')\n",
    "vals['key'] = key\n",
    "\n",
    "r = requests.get(url.format(**vals))\n",
    "resp = r.json()"
   ]
  },
  {
   "cell_type": "code",
   "execution_count": 9,
   "metadata": {
    "collapsed": false
   },
   "outputs": [
    {
     "data": {
      "text/plain": [
       "dict_keys(['timezone', 'longitude', 'hourly', 'offset', 'currently', 'daily', 'latitude', 'flags'])"
      ]
     },
     "execution_count": 9,
     "metadata": {},
     "output_type": "execute_result"
    }
   ],
   "source": [
    "resp.keys()"
   ]
  },
  {
   "cell_type": "markdown",
   "metadata": {},
   "source": [
    "Here's the plan. For each ride, we'll get the current conditions at the time, latitude, and longitude of departure.\n",
    "We'll use those values for the entirety of that ride.\n",
    "\n",
    "I'm a bit concerned about the variance of some quantities from the weather data (like the windspeed and bearing). This would be something to look into for a serious analysis. If the quantities are highly variable you would want to take a rolling average over more datapoints. `forecast.io` limits you to 1,000 API calls per day though (at the free tier), so we'll just stick with one request per ride."
   ]
  },
  {
   "cell_type": "code",
   "execution_count": 10,
   "metadata": {
    "collapsed": false
   },
   "outputs": [],
   "source": [
    "def get_weather(df, ride_id, key):\n",
    "    \"\"\"\n",
    "    Get the current weather conditions for for a ride at the time of departure.\n",
    "    \"\"\"\n",
    "    url = \"https://api.forecast.io/forecast/{key}/{Latitude},{Longitude},{Time}\"\n",
    "    vals = df.query(\"ride_id == @ride_id\").iloc[0][['latitude',\n",
    "               'longitude', 'time']].rename(lambda x: x.title()).to_dict()\n",
    "    vals['key'] = key\n",
    "    vals['Time'] = str(vals['Time']).replace(' ', 'T')\n",
    "    r = requests.get(url.format(**vals))\n",
    "    resp = r.json()['currently']\n",
    "    return resp"
   ]
  },
  {
   "cell_type": "markdown",
   "metadata": {},
   "source": [
    "Let's test it out:"
   ]
  },
  {
   "cell_type": "code",
   "execution_count": null,
   "metadata": {
    "collapsed": false
   },
   "outputs": [
    {
     "data": {
      "text/plain": [
       "{'apparentTemperature': 61.62,\n",
       " 'precipProbability': 0,\n",
       " 'summary': 'Clear',\n",
       " 'cloudCover': 0,\n",
       " 'windSpeed': 2.77,\n",
       " 'windBearing': 282,\n",
       " 'dewPoint': 58.66,\n",
       " 'pressure': 1017.62,\n",
       " 'icon': 'clear-day',\n",
       " 'humidity': 0.9,\n",
       " 'visibility': 8.89,\n",
       " 'time': 1375358830,\n",
       " 'temperature': 61.62,\n",
       " 'precipIntensity': 0}"
      ]
     },
     "execution_count": 11,
     "metadata": {},
     "output_type": "execute_result"
    }
   ],
   "source": [
    "get_weather(df, df.ride_id.unique()[0], key)"
   ]
  },
  {
   "cell_type": "markdown",
   "metadata": {},
   "source": [
    "Now do that for each `ride_id`, and store the result in a DataFrame"
   ]
  },
  {
   "cell_type": "code",
   "execution_count": null,
   "metadata": {
    "collapsed": false
   },
   "outputs": [],
   "source": [
    "conditions = [get_weather(df, ride_id, key) for ride_id\n",
    "              in df.ride_id.unique()]\n",
    "weather = pd.DataFrame(conditions)\n",
    "weather.head()"
   ]
  },
  {
   "cell_type": "markdown",
   "metadata": {},
   "source": [
    "Let's fixup the dtype on the `time` column. We need to convert from the seconds to a datetime.\n",
    "Then handle the timezone like before. This is returned in 'UTC', so we'll bring it back to\n",
    "my local time with `.tz_convert`."
   ]
  },
  {
   "cell_type": "code",
   "execution_count": null,
   "metadata": {
    "collapsed": false
   },
   "outputs": [],
   "source": [
    "weather['time'] = pd.DatetimeIndex(pd.to_datetime(weather.time, unit='s'), tz='UTC').\\\n",
    "                     tz_convert('US/Central')"
   ]
  },
  {
   "cell_type": "markdown",
   "metadata": {},
   "source": [
    "Now we can merge the two DataFrames `weather` and `df`. In this case it's quite simple since the share a single column, `time`. Pandas behaves exactly as you'd expect, merging on the provided column.\n",
    "We take the `outer` join since we only have weather information for the first obervation of each ride.\n",
    "We'll fill those values forward for the entirety of the ride.\n",
    "\n",
    "I don't just call `with_weather.fillna()` since the non-weather columns have `NaN`s that we may want to treat separately."
   ]
  },
  {
   "cell_type": "code",
   "execution_count": null,
   "metadata": {
    "collapsed": false
   },
   "outputs": [],
   "source": [
    "with_weather = pd.merge(df, weather, on='time', how='outer')\n",
    "print(with_weather.time.dtype)\n",
    "with_weather[weather.columns] = with_weather[weather.columns].fillna(method='ffill')\n",
    "print(with_weather.time.dtype)"
   ]
  },
  {
   "cell_type": "code",
   "execution_count": null,
   "metadata": {
    "collapsed": false
   },
   "outputs": [],
   "source": [
    "with_weather.time.head()"
   ]
  },
  {
   "cell_type": "code",
   "execution_count": null,
   "metadata": {
    "collapsed": false
   },
   "outputs": [],
   "source": [
    "with_weather.time.head()"
   ]
  },
  {
   "cell_type": "markdown",
   "metadata": {},
   "source": [
    "With that done, let's write `with_weather` out to disk. We'll get a Performance Warning since some of the columns are text, which are relatively slow for HDF5, but it's not a problem worht worrying about for a dataset this small.\n",
    "If you needed you could encode the text ones as integers with `pd.factorize`, write the integers out the the HDF5 store, and store the mapping from integer to text description elsewhere."
   ]
  },
  {
   "cell_type": "code",
   "execution_count": null,
   "metadata": {
    "collapsed": false
   },
   "outputs": [],
   "source": [
    "with_weather.to_hdf('data/cycle_store.h5', key='with_weather', append=False, format='table')\n",
    "weather.to_hdf('data/cycle_store.h5', key='weather', append=False, format='table')"
   ]
  },
  {
   "cell_type": "markdown",
   "metadata": {},
   "source": [
    "### A bit of Exploring"
   ]
  },
  {
   "cell_type": "markdown",
   "metadata": {},
   "source": [
    "We've done a lot of data wrangling with a notable lack of pretty pictures to look at. Let's fix that."
   ]
  },
  {
   "cell_type": "code",
   "execution_count": null,
   "metadata": {
    "collapsed": false
   },
   "outputs": [],
   "source": [
    "sns.puppyplot()"
   ]
  },
  {
   "cell_type": "markdown",
   "metadata": {},
   "source": [
    "For some other (less) pretty pictures, let's visualize some of the weather data we collected."
   ]
  },
  {
   "cell_type": "code",
   "execution_count": null,
   "metadata": {
    "collapsed": false
   },
   "outputs": [],
   "source": [
    "sns.set(style=\"white\")\n",
    "\n",
    "cols = ['temperature', 'apparentTemperature', 'humidity', 'dewPoint', 'pressure']\n",
    "# 'pressure', 'windBearing', 'windSpeed']].reset_index(drop=True))\n",
    "\n",
    "g = sns.PairGrid(weather.reset_index()[cols])\n",
    "                          \n",
    "g.map_diag(plt.hist)\n",
    "g.map_lower(sns.kdeplot, cmap=\"Blues_d\")\n",
    "g.map_upper(plt.scatter)"
   ]
  },
  {
   "cell_type": "markdown",
   "metadata": {},
   "source": [
    "Not bad! [Seaborn](http://web.stanford.edu/~mwaskom/software/seaborn/) makes exploring these relationships very easy.\n",
    "\n",
    "Let's also take a look at the wind data. I'm not a metorologist, but I saw a plot one time that's like a histogram for wind directions, but plotted on a [polar axis](http://en.wikipedia.org/wiki/Polar_coordinate_system) (brings back memories of Calc II). Fortunately for us, matplotlib handles polar plots pretty easily, we just have to setup the\n",
    "axes and hand it the values as radians."
   ]
  },
  {
   "cell_type": "code",
   "execution_count": null,
   "metadata": {
    "collapsed": false
   },
   "outputs": [],
   "source": [
    "ax = plt.subplot(polar=True)\n",
    "ax.set_theta_zero_location('N')\n",
    "ax.set_theta_direction('clockwise')\n",
    "\n",
    "bins = np.arange(0, 361, 30)\n",
    "ax.hist(np.radians(weather.windBearing.dropna()), bins=np.radians(bins))\n",
    "ax.set_title(\"Direction of Wind Origin\")"
   ]
  },
  {
   "cell_type": "markdown",
   "metadata": {},
   "source": [
    "`windBearing` represent the direction the wind is coming *from* so the most common direction is from the S/SW. It may be clearer to flip that around to represent the wind direction; I'm not sure what's standard.\n",
    "\n",
    "If we were feeling ambitious, we could try to color the wedges by the windspeed. Let's give it a shot!\n",
    "\n",
    "We'll need to get the average wind speed in each of our `bins` from above. This is clearly a `groupby`, but what excatly is the grouper? This is where pandas `Catagorical` comes in handy. We'll [`pd.cut`](http://pandas.pydata.org/pandas-docs/stable/generated/pandas.cut.html) the wind direction, and group the wind data by that."
   ]
  },
  {
   "cell_type": "code",
   "execution_count": null,
   "metadata": {
    "collapsed": false
   },
   "outputs": [],
   "source": [
    "wind = weather[['windSpeed', 'windBearing']].dropna()\n",
    "\n",
    "ct = pd.cut(wind.windBearing, bins)\n",
    "speeds = wind.groupby(ct)['windSpeed'].mean()\n",
    "colors = plt.cm.BuGn(speeds.div(speeds.max()))"
   ]
  },
  {
   "cell_type": "markdown",
   "metadata": {},
   "source": [
    "I map the speeds to colors with one of matplotlib's colormaps. It expects values in `[0, 1]`, so\n",
    "we normalize the speeds by dividing by the maximum.\n",
    "\n",
    "`hist` doesn't take a cmap argument, and I couldn't get `color` to work, so we'll just plot it like before,\n",
    "and then modify the color of the patches after the fact."
   ]
  },
  {
   "cell_type": "code",
   "execution_count": null,
   "metadata": {
    "collapsed": false
   },
   "outputs": [],
   "source": [
    "fig = plt.figure()\n",
    "ax = plt.subplot(polar=True)\n",
    "ax.set_theta_zero_location('N')\n",
    "ax.set_theta_direction('clockwise')\n",
    "\n",
    "bins = np.arange(0, 360, 30)\n",
    "ax.hist(np.radians(weather.windBearing.dropna()), bins=np.radians(bins))\n",
    "\n",
    "for p, color in zip(ax.patches, colors):\n",
    "    p.set_facecolor(color)\n",
    "\n",
    "ax.set_title(\"Direction of Wind Origin\")"
   ]
  },
  {
   "cell_type": "markdown",
   "metadata": {},
   "source": [
    "Colorbars are tricky in matplotlib (at least for me). So I'm going to leave it at darker is stronger wind.\n",
    "\n",
    "That's all for now. Come back next time for some exploratory analysis, and if we're lucky, some maps!"
   ]
  }
 ],
 "metadata": {
  "kernelspec": {
   "display_name": "Python 3",
   "language": "python",
   "name": "python3"
  },
  "language_info": {
   "codemirror_mode": {
    "name": "ipython",
    "version": 3
   },
   "file_extension": ".py",
   "mimetype": "text/x-python",
   "name": "python",
   "nbconvert_exporter": "python",
   "pygments_lexer": "ipython3",
   "version": "3.4.3"
  }
 },
 "nbformat": 4,
 "nbformat_minor": 0
}
