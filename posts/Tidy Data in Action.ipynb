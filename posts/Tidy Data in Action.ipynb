{
 "cells": [
  {
   "cell_type": "markdown",
   "metadata": {},
   "source": [
    "[Hadley Whickham](http://had.co.nz) wrote a famous paper (for a certain definition of famous) about the importance of [tidy data](http://vita.had.co.nz/papers/tidy-data.pdf) when doing data analysis.\n",
    "I want to talk a bit about that, using an example from a StackOverflow post, with a solution using [pandas](http://pandas.pydata.org). The principles of tidy data aren't language specific.\n",
    "\n",
    "A tidy dataset must satisfy three criteria (page 4 in [Whickham's paper](http://vita.had.co.nz/papers/tidy-data.pdf)):\n",
    "\n",
    "  1. Each variable forms a column.\n",
    "  2. Each observation forms a row.\n",
    "  3. Each type of observational unit forms a table.\n",
    "\n",
    "\n",
    "In this [StackOverflow post](http://stackoverflow.com/questions/22695680/python-pandas-timedelta-specific-rows), the asker had some data NBA games, and wanted to know the number of days since a team last played. Here's the example data:"
   ]
  },
  {
   "cell_type": "code",
   "execution_count": 1,
   "metadata": {
    "collapsed": false
   },
   "outputs": [
    {
     "data": {
      "text/html": [
       "<div style=\"max-height:1000px;max-width:1500px;overflow:auto;\">\n",
       "<table border=\"1\" class=\"dataframe\">\n",
       "  <thead>\n",
       "    <tr style=\"text-align: right;\">\n",
       "      <th></th>\n",
       "      <th>AwayGameNum</th>\n",
       "      <th>AwayTeam</th>\n",
       "      <th>Date</th>\n",
       "      <th>HomeGameNum</th>\n",
       "      <th>HomeTeam</th>\n",
       "    </tr>\n",
       "  </thead>\n",
       "  <tbody>\n",
       "    <tr>\n",
       "      <th>0</th>\n",
       "      <td> 1</td>\n",
       "      <td> CHI</td>\n",
       "      <td> 2014-03-11</td>\n",
       "      <td> 1</td>\n",
       "      <td> HOU</td>\n",
       "    </tr>\n",
       "    <tr>\n",
       "      <th>1</th>\n",
       "      <td> 1</td>\n",
       "      <td> DAL</td>\n",
       "      <td> 2014-03-12</td>\n",
       "      <td> 2</td>\n",
       "      <td> CHI</td>\n",
       "    </tr>\n",
       "    <tr>\n",
       "      <th>2</th>\n",
       "      <td> 3</td>\n",
       "      <td> CHI</td>\n",
       "      <td> 2014-03-14</td>\n",
       "      <td> 2</td>\n",
       "      <td> DAL</td>\n",
       "    </tr>\n",
       "    <tr>\n",
       "      <th>3</th>\n",
       "      <td> 3</td>\n",
       "      <td> DAL</td>\n",
       "      <td> 2014-03-15</td>\n",
       "      <td> 2</td>\n",
       "      <td> HOU</td>\n",
       "    </tr>\n",
       "  </tbody>\n",
       "</table>\n",
       "<p>4 rows × 5 columns</p>\n",
       "</div>"
      ],
      "text/plain": [
       "   AwayGameNum AwayTeam        Date  HomeGameNum HomeTeam\n",
       "0            1      CHI  2014-03-11            1      HOU\n",
       "1            1      DAL  2014-03-12            2      CHI\n",
       "2            3      CHI  2014-03-14            2      DAL\n",
       "3            3      DAL  2014-03-15            2      HOU\n",
       "\n",
       "[4 rows x 5 columns]"
      ]
     },
     "execution_count": 1,
     "metadata": {},
     "output_type": "execute_result"
    }
   ],
   "source": [
    "import datetime\n",
    "\n",
    "import pandas as pd\n",
    "\n",
    "df = pd.DataFrame({'HomeTeam': ['HOU', 'CHI', 'DAL', 'HOU'],\n",
    "                   'AwayTeam' : ['CHI', 'DAL', 'CHI', 'DAL'],\n",
    "                   'HomeGameNum': [1, 2, 2, 2],\n",
    "                   'AwayGameNum' : [1, 1, 3, 3],\n",
    "                   'Date' : [datetime.date(2014,3,11), datetime.date(2014,3,12),\n",
    "                             datetime.date(2014,3,14), datetime.date(2014,3,15)]})\n",
    "df"
   ]
  },
  {
   "cell_type": "markdown",
   "metadata": {},
   "source": [
    "I want to focus on the second of the three criteria: *Each observation forms a row.*\n",
    "Realize that the structure your dataset should take reflects the question you're trying to answer.\n",
    "For the SO question, we want to answer \"How many days has it been since this team's last game?\"\n",
    "Given this context what is an observation?\n",
    "\n",
    "---\n",
    "\n",
    "We'll define an observation as a team playing on a day.\n",
    "Does the original dataset in `df` satisfy the criteria for tidy data?\n",
    "No, it doesn't since each row contains **2** observations, one for the home team and one for the away team.\n",
    "\n",
    "Let's tidy up the dataset.\n",
    "\n",
    "- I repeat each row (once for each team) and drop the game numbers (I don't need them for this example)\n",
    "- Select just the new rows (the one with odd indicies, `%` is the [modulo operator](http://en.wikipedia.org/wiki/Modulo_operation) in python)\n",
    "- Overwrite the value of `Team` for the new rows, keeping the existing value for the old rows\n",
    "- rename the `HomeTeam` column to `is_home` and make it a boolen column (True when the team is home)"
   ]
  },
  {
   "cell_type": "code",
   "execution_count": 2,
   "metadata": {
    "collapsed": false
   },
   "outputs": [
    {
     "data": {
      "text/html": [
       "<div style=\"max-height:1000px;max-width:1500px;overflow:auto;\">\n",
       "<table border=\"1\" class=\"dataframe\">\n",
       "  <thead>\n",
       "    <tr style=\"text-align: right;\">\n",
       "      <th></th>\n",
       "      <th>Date</th>\n",
       "      <th>is_home</th>\n",
       "      <th>Team</th>\n",
       "    </tr>\n",
       "  </thead>\n",
       "  <tbody>\n",
       "    <tr>\n",
       "      <th>0</th>\n",
       "      <td> 2014-03-11</td>\n",
       "      <td> False</td>\n",
       "      <td> CHI</td>\n",
       "    </tr>\n",
       "    <tr>\n",
       "      <th>1</th>\n",
       "      <td> 2014-03-11</td>\n",
       "      <td>  True</td>\n",
       "      <td> HOU</td>\n",
       "    </tr>\n",
       "    <tr>\n",
       "      <th>2</th>\n",
       "      <td> 2014-03-12</td>\n",
       "      <td> False</td>\n",
       "      <td> DAL</td>\n",
       "    </tr>\n",
       "    <tr>\n",
       "      <th>3</th>\n",
       "      <td> 2014-03-12</td>\n",
       "      <td>  True</td>\n",
       "      <td> CHI</td>\n",
       "    </tr>\n",
       "    <tr>\n",
       "      <th>4</th>\n",
       "      <td> 2014-03-14</td>\n",
       "      <td> False</td>\n",
       "      <td> CHI</td>\n",
       "    </tr>\n",
       "    <tr>\n",
       "      <th>5</th>\n",
       "      <td> 2014-03-14</td>\n",
       "      <td>  True</td>\n",
       "      <td> DAL</td>\n",
       "    </tr>\n",
       "    <tr>\n",
       "      <th>6</th>\n",
       "      <td> 2014-03-15</td>\n",
       "      <td> False</td>\n",
       "      <td> DAL</td>\n",
       "    </tr>\n",
       "    <tr>\n",
       "      <th>7</th>\n",
       "      <td> 2014-03-15</td>\n",
       "      <td>  True</td>\n",
       "      <td> HOU</td>\n",
       "    </tr>\n",
       "  </tbody>\n",
       "</table>\n",
       "<p>8 rows × 3 columns</p>\n",
       "</div>"
      ],
      "text/plain": [
       "         Date is_home Team\n",
       "0  2014-03-11   False  CHI\n",
       "1  2014-03-11    True  HOU\n",
       "2  2014-03-12   False  DAL\n",
       "3  2014-03-12    True  CHI\n",
       "4  2014-03-14   False  CHI\n",
       "5  2014-03-14    True  DAL\n",
       "6  2014-03-15   False  DAL\n",
       "7  2014-03-15    True  HOU\n",
       "\n",
       "[8 rows x 3 columns]"
      ]
     },
     "execution_count": 2,
     "metadata": {},
     "output_type": "execute_result"
    }
   ],
   "source": [
    "s = df[['Date', 'HomeTeam', 'AwayTeam']].reindex_axis(df.index.repeat(2)).reset_index(drop=True)\n",
    "s = s.rename(columns={'AwayTeam': 'Team'})\n",
    "\n",
    "new = s[(s.index % 2).astype(bool)]\n",
    "\n",
    "s.loc[new.index, 'Team'] = new.loc[:, 'HomeTeam']\n",
    "\n",
    "s = s.rename(columns={'HomeTeam': 'is_home'})\n",
    "s['is_home'] = s['Team'] == s['is_home']\n",
    "s"
   ]
  },
  {
   "cell_type": "markdown",
   "metadata": {},
   "source": [
    "Now that we have a 1:1 correspondance between rows and observations, answering the question is simple.\n",
    "\n",
    "We'll just group by each team and find the difference between each consecutive `Date` for that team.\n",
    "Then subtract one day so that back to back games reflect 0 days of rest."
   ]
  },
  {
   "cell_type": "code",
   "execution_count": 3,
   "metadata": {
    "collapsed": false
   },
   "outputs": [
    {
     "data": {
      "text/html": [
       "<div style=\"max-height:1000px;max-width:1500px;overflow:auto;\">\n",
       "<table border=\"1\" class=\"dataframe\">\n",
       "  <thead>\n",
       "    <tr style=\"text-align: right;\">\n",
       "      <th></th>\n",
       "      <th>Date</th>\n",
       "      <th>is_home</th>\n",
       "      <th>Team</th>\n",
       "      <th>rest</th>\n",
       "    </tr>\n",
       "  </thead>\n",
       "  <tbody>\n",
       "    <tr>\n",
       "      <th>0</th>\n",
       "      <td> 2014-03-11</td>\n",
       "      <td> False</td>\n",
       "      <td> CHI</td>\n",
       "      <td>   NaT</td>\n",
       "    </tr>\n",
       "    <tr>\n",
       "      <th>1</th>\n",
       "      <td> 2014-03-11</td>\n",
       "      <td>  True</td>\n",
       "      <td> HOU</td>\n",
       "      <td>   NaT</td>\n",
       "    </tr>\n",
       "    <tr>\n",
       "      <th>2</th>\n",
       "      <td> 2014-03-12</td>\n",
       "      <td> False</td>\n",
       "      <td> DAL</td>\n",
       "      <td>   NaT</td>\n",
       "    </tr>\n",
       "    <tr>\n",
       "      <th>3</th>\n",
       "      <td> 2014-03-12</td>\n",
       "      <td>  True</td>\n",
       "      <td> CHI</td>\n",
       "      <td>0 days</td>\n",
       "    </tr>\n",
       "    <tr>\n",
       "      <th>4</th>\n",
       "      <td> 2014-03-14</td>\n",
       "      <td> False</td>\n",
       "      <td> CHI</td>\n",
       "      <td>1 days</td>\n",
       "    </tr>\n",
       "    <tr>\n",
       "      <th>5</th>\n",
       "      <td> 2014-03-14</td>\n",
       "      <td>  True</td>\n",
       "      <td> DAL</td>\n",
       "      <td>1 days</td>\n",
       "    </tr>\n",
       "    <tr>\n",
       "      <th>6</th>\n",
       "      <td> 2014-03-15</td>\n",
       "      <td> False</td>\n",
       "      <td> DAL</td>\n",
       "      <td>0 days</td>\n",
       "    </tr>\n",
       "    <tr>\n",
       "      <th>7</th>\n",
       "      <td> 2014-03-15</td>\n",
       "      <td>  True</td>\n",
       "      <td> HOU</td>\n",
       "      <td>3 days</td>\n",
       "    </tr>\n",
       "  </tbody>\n",
       "</table>\n",
       "<p>8 rows × 4 columns</p>\n",
       "</div>"
      ],
      "text/plain": [
       "         Date is_home Team   rest\n",
       "0  2014-03-11   False  CHI    NaT\n",
       "1  2014-03-11    True  HOU    NaT\n",
       "2  2014-03-12   False  DAL    NaT\n",
       "3  2014-03-12    True  CHI 0 days\n",
       "4  2014-03-14   False  CHI 1 days\n",
       "5  2014-03-14    True  DAL 1 days\n",
       "6  2014-03-15   False  DAL 0 days\n",
       "7  2014-03-15    True  HOU 3 days\n",
       "\n",
       "[8 rows x 4 columns]"
      ]
     },
     "execution_count": 3,
     "metadata": {},
     "output_type": "execute_result"
    }
   ],
   "source": [
    "s['rest'] = s.groupby('Team')['Date'].diff() - datetime.timedelta(1)\n",
    "s"
   ]
  },
  {
   "cell_type": "markdown",
   "metadata": {},
   "source": [
    "I planned on comparing that one line solution to the code needed with the messy data.\n",
    "But honestly, I'm having trouble writing the messy data version.\n",
    "You don't really have anything to group on, so you'd need to keep track of the row where you last saw this team (either in `AwayTeam` or `HomeTeam`).\n",
    "And then each row will have two answers, one for each team.\n",
    "It's certainly possible to write the necessary code, but the fact that I'm struggling so much to write the messy version is pretty good evidence for the importance of tidy data."
   ]
  }
 ],
 "metadata": {
  "kernelspec": {
   "display_name": "Python 3",
   "language": "python",
   "name": "python3"
  },
  "language_info": {
   "codemirror_mode": {
    "name": "ipython",
    "version": 3
   },
   "file_extension": ".py",
   "mimetype": "text/x-python",
   "name": "python",
   "nbconvert_exporter": "python",
   "pygments_lexer": "ipython3",
   "version": "3.4.3"
  }
 },
 "nbformat": 4,
 "nbformat_minor": 0
}
