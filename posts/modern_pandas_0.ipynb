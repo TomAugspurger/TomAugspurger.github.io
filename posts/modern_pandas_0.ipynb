{
 "cells": [
  {
   "cell_type": "markdown",
   "metadata": {},
   "source": [
    "There's been some rumblings recently that [pandas](pandas.pydata.org) has grown to be too large, too complex of a library.\n",
    "\n",
    "<blockquote class=\"twitter-tweet\" lang=\"en\"><p>Introducing Apache Spark 1.3 <a href=\"https://t.co/Kk3ykG1XwI\">https://t.co/Kk3ykG1XwI</a> with an API &quot;inspired by, and fully interoperable with, Pandas dataframes.&quot;</p>&mdash; Andrew Montalenti (@amontalenti) <a href=\"https://twitter.com/amontalenti/status/576555856155811840\">March 14, 2015</a></blockquote> <script async src=\"//platform.twitter.com/widgets.js\" charset=\"utf-8\"></script>\n",
    "\n",
    "<blockquote class=\"twitter-tweet\" lang=\"en\"><p><a href=\"https://twitter.com/amontalenti\">@amontalenti</a> Which is good or bad, depending on your view of the Pandas API, I guess.</p>&mdash; Tim Hopper (@tdhopper) <a href=\"https://twitter.com/tdhopper/status/576571966234214400\">March 14, 2015</a></blockquote> <script async src=\"//platform.twitter.com/widgets.js\" charset=\"utf-8\"></script>\n",
    "\n",
    "One of Tim Hopper's tweets has 2,351 retweeets (at time of writing) so his opinion *must* be taken seriously. And the worry doesn't stop there. In online and offline convorsations with pandas users and developers I've heard similar concerns.\n",
    "\n",
    "Which brings us to the point of this series. What's a beginner to do? Do they wade through the 30,379 lines of documentation (what a great problem to have)? Do they turn to R? I hope to remedy some of the problems.\n",
    "\n",
    "### Outline\n",
    "\n",
    "0. Pontificating (this document)\n",
    "1. Setup\n",
    "2. Data Structures\n",
    "3. data-flow\n",
    "\n",
    "...\n",
    "\n",
    "n. Plotting\n",
    "n+1 Indexes\n",
    "\n",
    "### Setup\n",
    "\n",
    "[Use conda](http://conda.pydata.org). Either `miniconda` if you're a minimalist like me, or the full Anaconda distribution if you like things to be easy. `conda` will take care of managing environments so you can have multiple installations of python and manages all the packages within each environment. To make sure you're ready for this, just call\n",
    "\n",
    "```bash\n",
    "conda create -n py3 python=3.4 pandas ipython ipython-notebook seaborn\n",
    "```\n",
    "\n",
    "Pretty easy."
   ]
  },
  {
   "cell_type": "markdown",
   "metadata": {},
   "source": [
    "### Data Structures\n",
    "\n",
    "pandas has two main Data structures you need to worry about. `DataFrame` and `Series`.\n",
    "\n",
    "`DataFrame`s are for 2-dimensional, tabular data. These contain your data and define a ton of useful methods.\n",
    "\n",
    "`Series` are the 1-dimensional version of DataFrames. Why the distinction? Certain methods only make sense on a 1-dimensional structure.\n"
   ]
  },
  {
   "cell_type": "code",
   "execution_count": null,
   "metadata": {
    "collapsed": true
   },
   "outputs": [],
   "source": []
  }
 ],
 "metadata": {
  "kernelspec": {
   "display_name": "Python 3",
   "language": "python",
   "name": "python3"
  },
  "language_info": {
   "codemirror_mode": {
    "name": "ipython",
    "version": 3
   },
   "file_extension": ".py",
   "mimetype": "text/x-python",
   "name": "python",
   "nbconvert_exporter": "python",
   "pygments_lexer": "ipython3",
   "version": "3.4.3"
  }
 },
 "nbformat": 4,
 "nbformat_minor": 0
}
